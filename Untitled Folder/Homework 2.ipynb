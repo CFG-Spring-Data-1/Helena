{
 "cells": [
  {
   "cell_type": "markdown",
   "id": "25bc181c",
   "metadata": {},
   "source": [
    "1. Your group needs to decide what kind of project you are going to work on and lock in your decision.\n",
    "\n",
    "2. You need to submit a free style paper that describes your project on a high level. Pleasecover the following questions:\n",
    "    1. What kind of data research and analysis are you going to take on?\n",
    "    2. What industry or areas does it cover?\n",
    "    3. What questions are you planning to answer?\n",
    "    4. What data sources are you planning to use?\n",
    "    5. Describe the team approach to the project work: how are you planning to distribute the workload."
   ]
  }
 ],
 "metadata": {
  "kernelspec": {
   "display_name": "Python 3",
   "language": "python",
   "name": "python3"
  },
  "language_info": {
   "codemirror_mode": {
    "name": "ipython",
    "version": 3
   },
   "file_extension": ".py",
   "mimetype": "text/x-python",
   "name": "python",
   "nbconvert_exporter": "python",
   "pygments_lexer": "ipython3",
   "version": "3.8.8"
  }
 },
 "nbformat": 4,
 "nbformat_minor": 5
}
